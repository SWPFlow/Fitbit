{
 "cells": [
  {
   "cell_type": "code",
   "execution_count": 1,
   "metadata": {
    "collapsed": true
   },
   "outputs": [],
   "source": [
    "%matplotlib inline\n",
    "from fitbittools.fbdata import FitBitData                                              \n",
    "from fitbittools.manipulators import Manipulator\n",
    "from sklearn import linear_model\n",
    "import numpy as np\n",
    "import matplotlib.pyplot as plt"
   ]
  },
  {
   "cell_type": "code",
   "execution_count": 6,
   "metadata": {
    "collapsed": false
   },
   "outputs": [
    {
     "name": "stdout",
     "output_type": "stream",
     "text": [
      "Training set size:  38\n",
      "Test size:  9\n",
      "Test data makes up:  19.1489361702  % of all data\n"
     ]
    }
   ],
   "source": [
    "filename=\"/Users/frenchwr/Computing/Python/Fitbit/data/fitbit_export_20140710.csv\"\n",
    "fb_obj = FitBitData(filename)\n",
    "manip = Manipulator()\n",
    "x = manip.convert_to_matrix(fb_obj.sleep.awake)\n",
    "y = manip.convert_to_matrix(fb_obj.sleep.asleep)\n",
    "test_frac = 0.20\n",
    "[x_train,y_train,x_test,y_test] = manip.split_rand(x,y,test_frac)"
   ]
  },
  {
   "cell_type": "code",
   "execution_count": 7,
   "metadata": {
    "collapsed": false
   },
   "outputs": [
    {
     "name": "stdout",
     "output_type": "stream",
     "text": [
      "Coefficients: \n",
      "[[ 1.36133889]]\n",
      "Residual sum of squares: 1556.82\n",
      "Variance score: 0.02\n"
     ]
    }
   ],
   "source": [
    "clf = linear_model.LinearRegression(fit_intercept=True)\n",
    "clf.fit(x_train, y_train)\n",
    "\n",
    "# The coefficients\n",
    "print \"Coefficients: \\n\", clf.coef_\n",
    "# The mean square error\n",
    "print(\"Residual sum of squares: %.2f\"\n",
    "      % np.mean((clf.predict(x_test) - y_test) ** 2))\n",
    "# Explained variance score: 1 is perfect prediction\n",
    "print('Variance score: %.2f' % clf.score(x_test, y_test))"
   ]
  },
  {
   "cell_type": "code",
   "execution_count": 8,
   "metadata": {
    "collapsed": false
   },
   "outputs": [
    {
     "data": {
      "image/png": "[encoded data removed]",
      "text/plain": [
       "<matplotlib.figure.Figure at 0x1088bc690>"
      ]
     },
     "metadata": {},
     "output_type": "display_data"
    }
   ],
   "source": [
    "# Plot outputs\n",
    "plt.scatter(x_test, y_test,  color='black')\n",
    "plt.plot(x_train, clf.predict(x_train), color='blue',\n",
    "         linewidth=3)\n",
    "plt.xlabel(\"Minutes Awake\")\n",
    "plt.ylabel(\"Minutes Asleep\")\n",
    "\n",
    "plt.show()"
   ]
  },
  {
   "cell_type": "code",
   "execution_count": null,
   "metadata": {
    "collapsed": true
   },
   "outputs": [],
   "source": []
  }
 ],
 "metadata": {
  "kernelspec": {
   "display_name": "Python 2",
   "language": "python",
   "name": "python2"
  },
  "language_info": {
   "codemirror_mode": {
    "name": "ipython",
    "version": 2
   },
   "file_extension": ".py",
   "mimetype": "text/x-python",
   "name": "python",
   "nbconvert_exporter": "python",
   "pygments_lexer": "ipython2",
   "version": "2.7.9"
  }
 },
 "nbformat": 4,
 "nbformat_minor": 0
}
